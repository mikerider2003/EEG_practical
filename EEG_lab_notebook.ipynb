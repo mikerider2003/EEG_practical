{
 "cells": [
  {
   "cell_type": "markdown",
   "id": "da049c35",
   "metadata": {},
   "source": [
    "# Practical 01: EEG data analysis"
   ]
  },
  {
   "cell_type": "code",
   "execution_count": 1,
   "id": "c9c454e7-56df-461e-8ed1-5abd3a5cf47b",
   "metadata": {},
   "outputs": [],
   "source": [
    "# Credits: this notebook was written by Ilaria Gavetti for the Cognitive Neuroscience EEG practical & EEGlab.\n",
    "\n",
    "# MNE-toolbox was used as reference to develop and implement the code. "
   ]
  },
  {
   "cell_type": "markdown",
   "id": "e74f591f-685f-47e5-87db-049f3adbedd0",
   "metadata": {},
   "source": [
    "**PLASE ADD HERE BELOW THE NAMES AND U-NUMBERS OF ALL THE PEOPLE IN YOUR GROUP WHO PARTICIPATED IN THE PRACTICAL**\n"
   ]
  },
  {
   "cell_type": "code",
   "execution_count": 2,
   "id": "7bd50783-8043-4ae2-ae6a-3df19f95a761",
   "metadata": {},
   "outputs": [],
   "source": [
    "# NAMES AND U-NUMBERS HERE:\n",
    "\n",
    "\n"
   ]
  },
  {
   "cell_type": "markdown",
   "id": "610fcd36-51ca-4879-a9a5-ad2964b01a38",
   "metadata": {},
   "source": [
    "! pip install mne"
   ]
  },
  {
   "cell_type": "code",
   "execution_count": 1,
   "id": "37fafd37",
   "metadata": {},
   "outputs": [],
   "source": [
    "import mne\n",
    "import os\n",
    "import numpy as np\n",
    "import csv\n",
    "import pandas as pd"
   ]
  },
  {
   "cell_type": "markdown",
   "id": "a6d93169",
   "metadata": {},
   "source": [
    "Welcome to the data-analysis part of the EEG pracical. At this point, you should have:\n",
    "\n",
    "1. collected your data \n",
    "2. received an output csv file from the data collection procedure, one for each condition, for instance: Open_eyes_1.csv, Open_eyes_2.csv, Closed_eyes_1.csv, Closed_eyes_2.csv.\n"
   ]
  },
  {
   "cell_type": "markdown",
   "id": "dc931023",
   "metadata": {},
   "source": [
    "Follow the instructions below to properly upload and conduct your data-analysis:"
   ]
  },
  {
   "cell_type": "markdown",
   "id": "5cd3c6a7-054f-4ef1-bef2-74fa638d4696",
   "metadata": {},
   "source": [
    "# Step 0: upload the files"
   ]
  },
  {
   "cell_type": "markdown",
   "id": "424365a8-8bf6-4043-85be-3ea4dbada16c",
   "metadata": {},
   "source": [
    "First, I suggest creating a \"base\" directory, called \"EEG practical\"."
   ]
  },
  {
   "cell_type": "markdown",
   "id": "b93e0269-7280-410d-836c-e5826399160f",
   "metadata": {},
   "source": [
    "Then, please upload all the .csv files from your laptop in the directory **\"/.../EEG_practical/1. Raw files\"**, where the **\"...\"** part is your personal path to get to **\"EEG_practical\"** and **1. Raw files** is a folder in this directory which you should manually add."
   ]
  },
  {
   "cell_type": "markdown",
   "id": "bdc882f9-2f1e-40fc-953b-46b5a22eb86e",
   "metadata": {},
   "source": [
    "Also, since we will be saving intermediate files during the analysis, add the following folders to your **\"EEG_practical\"** directory:\n",
    "\n",
    "**2. Loading & Digitization**\n",
    "\n",
    "**3. ICA**\n",
    "\n",
    "**4. Epoch** (with inside other 3 folders called **Annotations**, **Closed** and **Open**)\n",
    "\n",
    "**5. TFR**"
   ]
  },
  {
   "cell_type": "markdown",
   "id": "b22b4dea-bac7-4bdc-815c-c4d222759115",
   "metadata": {},
   "source": [
    "The code you will run already has these directories implemented."
   ]
  },
  {
   "cell_type": "markdown",
   "id": "840becd8-fbf2-4e46-a037-96d52ac49c2d",
   "metadata": {},
   "source": [
    "Last, but not least, change your current working directory to **\"EEG_practical\"** if it's not already set to it, to ensure the code runs smoothly."
   ]
  },
  {
   "cell_type": "code",
   "execution_count": 2,
   "id": "9d753dec-07cd-4b1c-bbf8-23efdfcca5b6",
   "metadata": {},
   "outputs": [
    {
     "data": {
      "text/plain": [
       "'/home/jovyan/NEW (22-23)/Student Assistant/CogNeuro re-design/EEG practical '"
      ]
     },
     "execution_count": 2,
     "metadata": {},
     "output_type": "execute_result"
    }
   ],
   "source": [
    "os.getcwd()"
   ]
  },
  {
   "cell_type": "code",
   "execution_count": null,
   "id": "97af2a79-e5e3-4c0f-8b1d-057c29dd2415",
   "metadata": {},
   "outputs": [],
   "source": [
    "os.chdir(\"/.../EEG practical\") # add your own path in the \"...\" part if your current working directory is not already the EEG practical folder."
   ]
  },
  {
   "cell_type": "markdown",
   "id": "c3a07464",
   "metadata": {},
   "source": [
    "# Steps 1&2: Loading: you might have to troubleshoot a bit with the code to adjust the directories from your enviroment, so don't worry if you get some errors about that at the beginning."
   ]
  },
  {
   "cell_type": "markdown",
   "id": "4a01f767-6f11-4b86-9851-c794b93b2d9f",
   "metadata": {},
   "source": [
    "# For .csv extension "
   ]
  },
  {
   "cell_type": "code",
   "execution_count": null,
   "id": "919961f3-ddd4-4963-b9b5-d3b7cec6ccd7",
   "metadata": {
    "tags": []
   },
   "outputs": [],
   "source": [
    "# Read the CSV file as a NumPy array\n",
    "\n",
    "for file in os.listdir(\"1. Raw files\"):\n",
    "    if \"csv\" in file:\n",
    "        data = pd.read_csv(\"1. Raw files/\"+file, delimiter=\",\", verbose = True)\n",
    "        data_sub = data[[\"EEG 1\", \"EEG 2\", \"EEG 3\", \"EEG 4\", \"EEG 5\", \"EEG 6\", \"EEG 7\", \"EEG 8\"]] # only select the elecrodes columns, not the rest\n",
    "        \n",
    "        # Print file name\n",
    "        print(\"****\"+file+\"****\")\n",
    "        \n",
    "        # Some information about the channels\n",
    "        ch_names_new = [\"Fz\", \"C3\", \"Cz\", \"C4\", \"Pz\", \"PO7\", \"Oz\", \"PO8\"] # from Unicorn BCI manual\n",
    "\n",
    "        # Sampling rate of the Unicorn BCI\n",
    "        sfreq = 250  # Hz\n",
    "\n",
    "        # Create the info structure needed by MNE\n",
    "        info = mne.create_info(ch_names_new, sfreq, ch_types = [\"eeg\"]*len(ch_names_new), verbose = True)\n",
    "        \n",
    "        # Set montage       \n",
    "        info.set_montage(montage = 'standard_1020')\n",
    "        \n",
    "        # Finally, create the Raw object\n",
    "        raw = mne.io.RawArray(data_sub.T, info, verbose = True)\n",
    "        \n",
    "        # Filter \n",
    "        \n",
    "        raw.filter(1,30)\n",
    "        \n",
    "        # Sett EEG reference\n",
    "        raw.set_eeg_reference()\n",
    "        \n",
    "        \n",
    "        # Plot it!\n",
    "        raw.plot(scalings=\"auto\", duration = 2)\n",
    "        \n",
    "        # Save it!\n",
    "        if \"Open\" in file: # open and closed csv files have different lenghts, so by doing this we ensure the names of the new files will be correct\n",
    "            raw.save(\"2. Loading & Digitization/\"+file[0:11]+\"_raw.fif\", overwrite = True)\n",
    "        else:\n",
    "            raw.save(\"2. Loading & Digitization/\"+file[0:13]+\"_raw.fif\", overwrite = True)\n",
    "            "
   ]
  },
  {
   "cell_type": "markdown",
   "id": "8a3ef8b1-731f-41c1-a9e6-7d6efc1ee7b0",
   "metadata": {},
   "source": [
    "# For .vhdr extension - skip this "
   ]
  },
  {
   "cell_type": "code",
   "execution_count": null,
   "id": "5f285510-05fc-45c5-9c32-3cdbebc19cd3",
   "metadata": {},
   "outputs": [],
   "source": [
    "for eo_vhdr_file in os.listdir(\"1. Raw files\"):\n",
    "    if \"Open\" in eo_vhdr_file:\n",
    "        sample_data_raw_file = (\"1. Raw files/\"+eo_vhdr_file)\n",
    "        raw = mne.io.read_raw_brainvision(sample_data_raw_file)\n",
    "        raw.plot_psd(fmax=50, verbose = False)\n",
    "        raw.save(\"2. Loading & Digitization/\"+file[0:11]+\"_raw.fif\")"
   ]
  },
  {
   "cell_type": "code",
   "execution_count": null,
   "id": "ea6a045c-f357-4083-ac46-f731a89a1384",
   "metadata": {},
   "outputs": [],
   "source": [
    "for ec_vhdr_file in os.listdir(\"1. Raw files\"):\n",
    "    if \"Closed\" in ec_vhdr_file:\n",
    "        sample_data_raw_file = (\"1. Raw files/\"+ec_vhdr_file)\n",
    "        raw = mne.io.read_raw_brainvision(sample_data_raw_file)\n",
    "        raw.plot_psd(fmax=50, verbose = False)\n",
    "        raw.save(\"2. Loading & Digitization/\"+file[0:13]+\"_raw.fif\")"
   ]
  },
  {
   "cell_type": "markdown",
   "id": "7ed1e167",
   "metadata": {
    "tags": []
   },
   "source": [
    "# Step 3: artifcats rejection"
   ]
  },
  {
   "cell_type": "markdown",
   "id": "d6ddaa7c",
   "metadata": {},
   "source": [
    "Artifacts rejection is an important step in the EEG data analysis process: it allows to remove unwanted noise in the signal, possibly caused by (among others):\n",
    "\n",
    "1. eye blinks\n",
    "2. saccades\n",
    "3. muscle twitches\n",
    "4. noise in the enviroment\n",
    "5. electrical signal sources in proximity (i.e., laptops, EEG hardware etc.)\n",
    "\n",
    "For this tutorial, we will focus on eye blinks and saccades, the two most prominent artifacts."
   ]
  },
  {
   "cell_type": "markdown",
   "id": "ca9b808a",
   "metadata": {},
   "source": [
    "It's important to know that the existing algorithms that are meant to target and remove these type of artifacts are great, but occasionally still report False Negatives (an artifact is classified as clean signal) as well as Flase Positives (a clean signal is classified as artifcat)."
   ]
  },
  {
   "cell_type": "markdown",
   "id": "e1ccf5ca",
   "metadata": {},
   "source": [
    "Run the following code to perofrm automatic eye artifacts rejection:\n"
   ]
  },
  {
   "cell_type": "code",
   "execution_count": 4,
   "id": "a1f07ccb",
   "metadata": {},
   "outputs": [],
   "source": [
    "from ica_function import ica_visualization \n",
    "\n",
    "path_to_dig_file = [\"2. Loading & Digitization\"] # define the path to the digitized file"
   ]
  },
  {
   "cell_type": "code",
   "execution_count": null,
   "id": "042ffb71-9be9-4113-a252-5c4df685fef6",
   "metadata": {},
   "outputs": [],
   "source": [
    "for i in range(len(path_to_dig_file)): \n",
    "    files_list = os.listdir(path_to_dig_file[i]) \n",
    "    for filename in files_list: # for file in files_list\n",
    "        if \"raw\" in filename: # if this file has been digitized\n",
    "            ica_visualization(filename, path_to_dig_file[i]) # run automatic ICA rejection"
   ]
  },
  {
   "cell_type": "markdown",
   "id": "1e3a0957",
   "metadata": {},
   "source": [
    "# Step 4: Adding annotations manually"
   ]
  },
  {
   "cell_type": "markdown",
   "id": "1fa280f3-340c-4830-be50-db077465e683",
   "metadata": {},
   "source": [
    "Up until now, the raw data does not contain any markers, meaning that each file is a continuous flow of EEG data without any marker indicating where the open_eyes and closed_eyes trials happen.\n",
    "\n",
    "That is normal, since we recorded the two conditions over the whole file, not at specific times during the recording.\n",
    "\n",
    "Nevertheless, it is better to split the whole EEG recording into smaller parts. For example, since each recording lasts 60 seconds, we could split it into 12 sub-parts of 5 seconds each, and tell the code that each of those 12 sub-parts marks the beginning of a 5-seconds long open/closed_eyes trial, depending on the file.\n",
    "\n",
    "This will allow us to  \"Epoch\" the data, which will make our life easier later in the notebook!\n",
    "\n"
   ]
  },
  {
   "cell_type": "code",
   "execution_count": 6,
   "id": "3266098d-e5e8-4532-8d9f-04e0b085a272",
   "metadata": {},
   "outputs": [
    {
     "data": {
      "text/plain": [
       "'/home/jovyan/NEW (22-23)/Student Assistant/CogNeuro re-design/EEG practical '"
      ]
     },
     "execution_count": 6,
     "metadata": {},
     "output_type": "execute_result"
    }
   ],
   "source": [
    "os.getcwd()"
   ]
  },
  {
   "cell_type": "code",
   "execution_count": 7,
   "id": "ee0fcb0a",
   "metadata": {},
   "outputs": [],
   "source": [
    "files_open_eyes = os.listdir(\"3. ICA\") # path to where the ICA files are stored"
   ]
  },
  {
   "cell_type": "code",
   "execution_count": null,
   "id": "8bc1ddc7-2fdd-4a90-8589-cda6c032e771",
   "metadata": {},
   "outputs": [],
   "source": [
    "for file_open in files_open_eyes:\n",
    "    if \"Open\" in file_open:\n",
    "        sample_data_raw_file = \"3. ICA/\"+file_open\n",
    "        raw_open_eyes = mne.io.read_raw_fif(sample_data_raw_file, preload= True)\n",
    "\n",
    "        # Annotation \n",
    "\n",
    "        my_annot_open = mne.Annotations(onset=[0, 5, 10, 15, 20, 25, 30, 35, 40, 45, 50, 55],  # in seconds\n",
    "                               duration=[5,5,5,5,5,5,5,5,5,5,5,5],  # in seconds, too\n",
    "                               description=['eye_open', 'eye_open', 'eye_open','eye_open','eye_open', 'eye_open','eye_open', 'eye_open', 'eye_open','eye_open','eye_open','eye_open' ])\n",
    "        print(my_annot_open)\n",
    "\n",
    "\n",
    "        # Adding markers\n",
    "\n",
    "        raw_open_eyes.set_annotations(my_annot_open)\n",
    "        print(raw_open_eyes.annotations)\n",
    "\n",
    "        # convert meas_date (a tuple of seconds, microseconds) into a float:\n",
    "        meas_date = raw_open_eyes.info['meas_date']\n",
    "        orig_time = raw_open_eyes.annotations.orig_time\n",
    "        print(meas_date == orig_time)\n",
    "\n",
    "        fig = raw_open_eyes.plot_psd(fmax = 40)\n",
    "\n",
    "        raw_open_eyes.save(\"4. Epoch/Annotations/\"+file_open[0:11]+\"_annot_raw.fif\", overwrite = True)\n",
    "    \n",
    "    "
   ]
  },
  {
   "cell_type": "code",
   "execution_count": 9,
   "id": "27540790",
   "metadata": {},
   "outputs": [],
   "source": [
    "files_closed_eyes = os.listdir(\"3. ICA\") # path to where the ICA files are stored"
   ]
  },
  {
   "cell_type": "code",
   "execution_count": null,
   "id": "59ff412e-7cc4-4105-89e0-8392d50dcac9",
   "metadata": {},
   "outputs": [],
   "source": [
    "for file_closed in files_closed_eyes:\n",
    "    if \"Closed\" in file_closed:\n",
    "        sample_data_raw_file = \"3. ICA/\"+file_closed\n",
    "        raw_closed_eyes = mne.io.read_raw_fif(sample_data_raw_file, preload= True)\n",
    "\n",
    "        # Annotation \n",
    "\n",
    "        my_annot_closed = mne.Annotations(onset=[0, 5, 10, 15, 20, 25, 30, 35, 40, 45, 50, 55],  # in seconds\n",
    "                               duration=[5,5,5,5,5,5,5,5,5,5,5,5],  # in seconds, too\n",
    "                               description=['eye_closed', 'eye_closed', 'eye_closed','eye_closed','eye_closed', 'eye_closed','eye_closed', 'eye_closed', 'eye_closed','eye_closed','eye_closed','eye_closed' ])\n",
    "        print(my_annot_closed)\n",
    "\n",
    "\n",
    "        # Adding markers\n",
    "\n",
    "        raw_closed_eyes.set_annotations(my_annot_closed)\n",
    "        print(raw_closed_eyes.annotations)\n",
    "\n",
    "        # convert meas_date (a tuple of seconds, microseconds) into a float:\n",
    "        meas_date = raw_closed_eyes.info['meas_date']\n",
    "        orig_time = raw_closed_eyes.annotations.orig_time\n",
    "        print(meas_date == orig_time)\n",
    "\n",
    "        fig = raw_closed_eyes.plot_psd(fmax = 40)\n",
    "\n",
    "        raw_closed_eyes.save(\"4. Epoch/Annotations/\"+file_closed[0:13]+\"_annot_raw.fif\", overwrite = True)\n",
    "        \n",
    "        "
   ]
  },
  {
   "cell_type": "markdown",
   "id": "14d6a6aa",
   "metadata": {},
   "source": [
    "# Step 5: epoching"
   ]
  },
  {
   "cell_type": "code",
   "execution_count": 11,
   "id": "25b2d1da",
   "metadata": {},
   "outputs": [],
   "source": [
    "from Epoching import epoching"
   ]
  },
  {
   "cell_type": "markdown",
   "id": "c9a200a1-56a7-4b10-a130-1c2493e931fb",
   "metadata": {},
   "source": [
    "First of all, you're doing great! Congratulations for getting this far, we are almost there!\n",
    "\n",
    "In the next step, epoching, you will \"epoch\" your files: this means that the program will take each file and extract the 5-seconds long trials marked by the markers we inserted in the Annotations step and save this information in a new, \"Epoch\" file, which can be thought of as a N-dimensional numpy array of shape: trials(the amount of markers we inserted in the Annotations step) X nr_channels X time points."
   ]
  },
  {
   "cell_type": "code",
   "execution_count": 12,
   "id": "3833521d",
   "metadata": {},
   "outputs": [
    {
     "data": {
      "text/plain": [
       "'/home/jovyan/NEW (22-23)/Student Assistant/CogNeuro re-design/EEG practical '"
      ]
     },
     "execution_count": 12,
     "metadata": {},
     "output_type": "execute_result"
    }
   ],
   "source": [
    "os.getcwd()"
   ]
  },
  {
   "cell_type": "code",
   "execution_count": null,
   "id": "6ff56f22-e037-41f5-a824-2b401244b1bd",
   "metadata": {},
   "outputs": [],
   "source": [
    "for file in os.listdir(\"4. Epoch/Annotations\"):\n",
    "    if \"raw\" in file:\n",
    "        epoching(file, \"4. Epoch/Annotations\")"
   ]
  },
  {
   "cell_type": "markdown",
   "id": "feadb122-5cdc-4cd1-a82b-51d6130e224f",
   "metadata": {},
   "source": [
    "# Load two of the files you epoched to make sure the time ranges are correct: the files should report: t = -1000.00....5000ms >> from -1 to 5 seconds."
   ]
  },
  {
   "cell_type": "code",
   "execution_count": null,
   "id": "88347733-1198-43ba-aeac-1bb51b6f73f7",
   "metadata": {},
   "outputs": [],
   "source": [
    "epoch_EO = mne.read_epochs(\"4. Epoch/Open/Open_Eyes_2-open_eyes_epo.fif\", preload= True)"
   ]
  },
  {
   "cell_type": "markdown",
   "id": "fd0b7ec4-51d8-44e3-bd03-dbec9e16fd93",
   "metadata": {},
   "source": [
    "**Check the shape of the epoch by converting it into an array:**"
   ]
  },
  {
   "cell_type": "code",
   "execution_count": null,
   "id": "12879079-5831-40cf-b21d-847bb6ddfae2",
   "metadata": {},
   "outputs": [],
   "source": [
    "epoch_EO.get_data().shape"
   ]
  },
  {
   "cell_type": "markdown",
   "id": "fbd804ad-c29a-4c97-a694-8a00c795b073",
   "metadata": {},
   "source": [
    "We have 8 channels and 1501 time points in the epoch. The first dimension (the number of trial markers) could be either 12 (11 in the epoch, since index starts at 0 in array) or slightly less, since during th epoching process, the function might have dropped a few \"bad epochs\"."
   ]
  },
  {
   "cell_type": "code",
   "execution_count": null,
   "id": "b9185fa6-e59e-4c83-a153-891987416448",
   "metadata": {},
   "outputs": [],
   "source": [
    "epoch_EC = mne.read_epochs(\"4. Epoch/Closed/Closed_Eyes_2-closed_eyes_epo.fif\", preload= True)"
   ]
  },
  {
   "cell_type": "markdown",
   "id": "7e01ce20-8979-45fa-90e7-8abba4e538b1",
   "metadata": {},
   "source": [
    "**Same for this epoch:**"
   ]
  },
  {
   "cell_type": "code",
   "execution_count": null,
   "id": "25c8db4e-32a0-45eb-a76b-adf1bc965350",
   "metadata": {},
   "outputs": [],
   "source": [
    "epoch_EC.get_data().shape"
   ]
  },
  {
   "cell_type": "markdown",
   "id": "cc056c9c",
   "metadata": {},
   "source": [
    "# Step 6: power spectra"
   ]
  },
  {
   "cell_type": "markdown",
   "id": "760f37dd-3ec4-491e-b5db-e48a160ff5f8",
   "metadata": {},
   "source": [
    "Let's visualise the power spectra of the two loaded epoched files, just to see if there is any difference between the two conditions.\n",
    "Can you see any difference between the two plots? Does one condition report larger/smaller values than the other and if so, in what frequency range?\n",
    "The dottend vertical lines that you see in the plots represent the frequency range (1-30 Hz) that we are interested in."
   ]
  },
  {
   "cell_type": "code",
   "execution_count": null,
   "id": "d5fc1ca3-1e5b-4c1a-b1e4-d1ada21eac5e",
   "metadata": {
    "tags": []
   },
   "outputs": [],
   "source": [
    "epoch_EO.compute_psd().plot(picks='eeg')"
   ]
  },
  {
   "cell_type": "code",
   "execution_count": null,
   "id": "7b2bc22a-2a3c-4fe7-8bbf-98c77b9236c2",
   "metadata": {},
   "outputs": [],
   "source": [
    "epoch_EC.compute_psd().plot(picks='eeg')"
   ]
  },
  {
   "cell_type": "markdown",
   "id": "b00aa02c",
   "metadata": {},
   "source": [
    "# Step 7: TFR visualization"
   ]
  },
  {
   "cell_type": "code",
   "execution_count": 98,
   "id": "de8259a5-63a9-4c33-8111-cc5fbc9126b8",
   "metadata": {},
   "outputs": [],
   "source": [
    "from TFR import tfr_analysis\n",
    "from matplotlib import colors\n",
    "import matplotlib.pyplot as plt"
   ]
  },
  {
   "cell_type": "markdown",
   "id": "e686516f-87a3-4b86-8bc1-e111471d388b",
   "metadata": {},
   "source": [
    "And now, the last step: time-frequency visualization."
   ]
  },
  {
   "cell_type": "markdown",
   "id": "c289b634-8cc3-4e4c-9e05-1aa1c4f8b159",
   "metadata": {},
   "source": [
    "In this last step, we will work with the two epoched groups of files, open vs closed."
   ]
  },
  {
   "cell_type": "markdown",
   "id": "ef86dae1-f10c-4026-9b2f-b1eab384e3c9",
   "metadata": {},
   "source": [
    "What we want to do is, extracting and visualising the *\"temporal evolution of spectral properties of the signal\"* (https://link.springer.com/referenceworkentry/10.1007/978-1-4614-6675-8_421).\n",
    "\n",
    "In order to do so, you should get familiar with the concept of the **\"Fourier Transofrm\"**: this is a process that, by fitting sinusoidal waves of different frequncies to your cleaned and epoched EEG signal, it extracts the \"similarity\" of the signal to these different sine waves, transposing the singal to a time-frequncy representation. The signal can then be visualised on the time domain (the time window you set during the epoching) and a frequncy range (what frequency range are we interested in? In this case, alpha range > 8-12)."
   ]
  },
  {
   "cell_type": "markdown",
   "id": "5b5a4f46-db73-4128-a56d-5ec47059b734",
   "metadata": {},
   "source": [
    "This means that, for the epoched files, we would like to explore (in our case) the alpha porperties for the  corresponding signals at certain channels, over time.\n",
    "\n",
    "Alpha waves are known to inhibit areas of the cortex not in use (i.e., occipital areas when eyes are closed) (first observed by Berger, H. in 1929), therefore, the expectation is that, in the \"closed eyes\" condition, alpha waves will be stronger (innhibiting the occiptal lobe) compared to the \"open eyes\" condition."
   ]
  },
  {
   "cell_type": "markdown",
   "id": "8d66159e-be5a-4b51-b0be-f01498daa0a6",
   "metadata": {},
   "source": [
    "Acess the link below to see an animaiton of the Fourier Transofrmaiton:\n",
    "    \n",
    "*Source for animation*: https://commons.wikimedia.org/wiki/File:Fourier_transform_time_and_frequency_domains.gif"
   ]
  },
  {
   "cell_type": "code",
   "execution_count": 99,
   "id": "a6f6dff4",
   "metadata": {},
   "outputs": [],
   "source": [
    "channels = [\"Fz\", \"C3\", \"Cz\", \"C4\", \"Pz\", \"PO7\", \"Oz\", \"PO8\"] "
   ]
  },
  {
   "cell_type": "code",
   "execution_count": 100,
   "id": "dd8d8463-a86b-4ebb-8464-aa29ada19456",
   "metadata": {},
   "outputs": [],
   "source": [
    "min_list = []\n",
    "max_list = []\n",
    "\n",
    "sd_min_list = []\n",
    "sd_max_list = []"
   ]
  },
  {
   "cell_type": "code",
   "execution_count": null,
   "id": "f331d7fb-edb1-4a6a-9e07-d9f6f43bc713",
   "metadata": {},
   "outputs": [],
   "source": [
    "freq_ranges = [\"Alpha\"]\n",
    "times = np.linspace(start = 0, stop = 5, num = 151) # tmax equals 5 seconds \n",
    "\n",
    "\n",
    "for iChan in range(len(channels)): \n",
    "          \n",
    "    info_list_fr = [4] # range between fmin and fmax \n",
    "    info_list_fmin = [8] # fmin Alpha\n",
    "    info_list_fmax = [12] # fmax Alpha \n",
    "    \n",
    "\n",
    "    for iBand in range(len(freq_ranges)): # len = 1\n",
    "                \n",
    "        freq_range, fmin, fmax = info_list_fr[iBand], info_list_fmin[iBand], info_list_fmax[iBand]\n",
    "        freqs = np.arange(fmin, fmax, 1.) \n",
    "                  \n",
    "              \n",
    "        # Participant 1\n",
    "            \n",
    "        files =  tfr_analysis([\"Open_Eyes_1-open_eyes_epo.fif\", \"Open_Eyes_2-open_eyes_epo.fif\" ], [\"Closed_Eyes_1-closed_eyes_epo.fif\", \"Closed_Eyes_2-closed_eyes_epo.fif\"], \"4. Epoch/Open\", \"4. Epoch/Closed\", 2, freq_range, fmin, fmax, channels[iChan]) # call to funciton tfr_analysis\n",
    "          \n",
    "            \n",
    "        final_to_plot_open = files[0]\n",
    "        final_to_plot_closed = files[1]\n",
    "\n",
    "        p_open = final_to_plot_open[iChan]\n",
    "        p_closed = final_to_plot_closed[iChan]\n",
    "        \n",
    "        # Take the log\n",
    "        \n",
    "        p_open = np.log(p_open)\n",
    "        p_closed = np.log(p_closed)\n",
    "\n",
    "        # Extract min/max values for colorbar ranges:\n",
    "                \n",
    "        max_list.append(np.amax(p_open))\n",
    "        max_list.append(np.amax(p_closed))\n",
    "        min_list.append(np.amin(p_open))\n",
    "        min_list.append(np.amin(p_closed))\n",
    "        \n",
    "        sd_max_list.append(np.amax(p_open-p_closed))\n",
    "        sd_min_list.append(np.amin(p_open-p_closed))\n",
    "          \n",
    "        # Final lists\n",
    "        p_open_list = [p_open]\n",
    "        p_closed_list = [p_closed]\n",
    "        p_spec_diff_list = [p_open-p_closed]\n",
    "                 \n",
    "    "
   ]
  },
  {
   "cell_type": "markdown",
   "id": "8d8c5598-d0a4-47b2-bd44-c933d7a0adca",
   "metadata": {},
   "source": [
    "# Sort the lists:"
   ]
  },
  {
   "cell_type": "code",
   "execution_count": 102,
   "id": "7061b2d8-1386-46e1-98d1-7c07bfde4fc2",
   "metadata": {},
   "outputs": [],
   "source": [
    "min_list.sort()\n",
    "max_list.sort()\n",
    "\n",
    "sd_min_list.sort()\n",
    "sd_max_list.sort()"
   ]
  },
  {
   "cell_type": "markdown",
   "id": "6b6ea2cd-bb87-48f0-a552-8577b66ec269",
   "metadata": {},
   "source": [
    "# From each of them, extract the 25th (for the min value) and the 75th (for the max value) percentiles:"
   ]
  },
  {
   "cell_type": "code",
   "execution_count": 103,
   "id": "ab421680-3a61-473f-87fa-ec92729b419a",
   "metadata": {},
   "outputs": [],
   "source": [
    "vmin= np.percentile(min_list, 25)\n",
    "vmax= np.percentile(max_list, 75)\n",
    "\n",
    "vmin_sd= np.percentile(sd_min_list, 25)\n",
    "vmax_sd= np.percentile(sd_max_list, 75)"
   ]
  },
  {
   "cell_type": "markdown",
   "id": "934f9e53-91d8-455b-9037-7806f13049d3",
   "metadata": {},
   "source": [
    "# Run the code again, this time with vmin, vmax etc... already pre-set:"
   ]
  },
  {
   "cell_type": "code",
   "execution_count": null,
   "id": "db292b0e-8fea-4028-a85a-35423177cdf3",
   "metadata": {},
   "outputs": [],
   "source": [
    "freq_ranges = [\"Alpha\"]\n",
    "times = np.linspace(start = 0, stop = 5, num = 151) # tmax equals 5 seconds \n",
    "\n",
    "\n",
    "# PLOTTING:\n",
    "\n",
    "for iChan in range(len(channels)): \n",
    "    \n",
    "    print(\"Visualising channel {}\".format(channels[iChan]))\n",
    "          \n",
    "    info_list_fr = [4] # range between fmin and fmax \n",
    "    info_list_fmin = [8] # fmin Alpha\n",
    "    info_list_fmax = [12] # fmax Alpha \n",
    "    \n",
    "\n",
    "    for iBand in range(len(freq_ranges)): # len = 1\n",
    "                \n",
    "        freq_range, fmin, fmax = info_list_fr[iBand], info_list_fmin[iBand], info_list_fmax[iBand]\n",
    "        freqs = np.arange(fmin, fmax, 1.) \n",
    "                  \n",
    "              \n",
    "        # Participant 1\n",
    "            \n",
    "        files =  tfr_analysis([\"Open_Eyes_1-open_eyes_epo.fif\", \"Open_Eyes_2-open_eyes_epo.fif\" ], [\"Closed_Eyes_1-closed_eyes_epo.fif\", \"Closed_Eyes_2-closed_eyes_epo.fif\"], \n",
    "                              \"4. Epoch/Open\", \"4. Epoch/Closed\", 2, freq_range, fmin, fmax, channels[iChan]) # call to funciton tfr_analysis\n",
    "          \n",
    "            \n",
    "        final_to_plot_open = files[0]\n",
    "        final_to_plot_closed = files[1]\n",
    "\n",
    "        p_open = final_to_plot_open[iChan]\n",
    "        p_closed = final_to_plot_closed[iChan]\n",
    "        \n",
    "        # Take the log \n",
    "        \n",
    "        p_open = np.log(p_open)\n",
    "        p_closed = np.log(p_closed)\n",
    "\n",
    "          \n",
    "        # Final lists\n",
    "        p_open_list = [p_open]\n",
    "        p_closed_list = [p_closed]\n",
    "        p_spec_diff_list = [p_open-p_closed]\n",
    "        \n",
    "        \n",
    "        for j in range(len(p_open_list)):\n",
    "    \n",
    "            fig, axes = plt.subplots(nrows=1, ncols=3, figsize = (20,4))\n",
    "\n",
    "\n",
    "            plt.axes(axes[0])\n",
    "            plt.imshow(p_open_list[j], extent = [times[0], times[-1], freqs[0], freqs[-1]], cmap = \"RdBu\", aspect='auto', origin='lower', vmin = vmin, vmax = vmax)\n",
    "            plt.title(\"Open eyes\")\n",
    "            plt.colorbar()\n",
    "\n",
    "            plt.axes(axes[1])\n",
    "            plt.imshow(p_closed_list[j], extent = [times[0], times[-1], freqs[0], freqs[-1]], cmap = \"RdBu\", aspect='auto',origin='lower', vmin = vmin, vmax = vmax)\n",
    "            plt.title(\"Closed eyes\")\n",
    "            plt.colorbar()\n",
    "\n",
    "            plt.axes(axes[2])\n",
    "            plt.imshow(p_spec_diff_list[j], extent = [times[0], times[-1], freqs[0], freqs[-1]],cmap = \"RdBu\", aspect='auto',origin='lower', vmin = vmin_sd, vmax = vmax_sd)\n",
    "            plt.title(\"Spectral difference between two conditions\")\n",
    "            plt.colorbar()\n",
    "\n",
    "\n",
    "            fig.subplots_adjust(right=0.8)\n",
    "\n",
    "            plt.show()\n",
    "\n",
    "            # Saving files to nnumpy arrays \n",
    "            np.save(\"5. TFR/TFR_open_alpha_\"+channels[iChan] ,p_open_list[j])\n",
    "            np.save(\"5. TFR/TFR_closed_alpha_\"+channels[iChan],p_closed_list[j])\n",
    "        \n",
    "        "
   ]
  },
  {
   "cell_type": "markdown",
   "id": "daa79a5c",
   "metadata": {},
   "source": [
    "# Step 8: Two-related samples t-test between channels-averaged conditions"
   ]
  },
  {
   "cell_type": "code",
   "execution_count": 106,
   "id": "4cc8aa78",
   "metadata": {},
   "outputs": [],
   "source": [
    "from scipy import stats"
   ]
  },
  {
   "cell_type": "markdown",
   "id": "a158ae54-d52a-4162-81ae-4fe8b6a25d4e",
   "metadata": {},
   "source": [
    "Let's load the arrays into two, grand arrays first, one for each condition and let's run a two-related samples t-test between each condition, per channel:"
   ]
  },
  {
   "cell_type": "code",
   "execution_count": null,
   "id": "341f64cb-8560-4335-ad7f-aec8ade0f367",
   "metadata": {},
   "outputs": [],
   "source": [
    "lista = os.listdir(\"5. TFR\")\n",
    "lista.remove('.ipynb_checkpoints')\n",
    "\n",
    "for chan in channels:\n",
    "    file_tfr_open = np.load(\"5. TFR/TFR_open_alpha_\"+chan+\".npy\")\n",
    "    file_tfr_closed = np.load(\"5. TFR/TFR_closed_alpha_\"+chan+\".npy\")\n",
    "    stat, pvalue = stats.ttest_rel(file_tfr_open, file_tfr_closed)\n",
    "    print(\"Two-related samples t-tets between {} and {} pvalues: {}\".format(\"TFR_open_alpha_\"+chan, \"TFR_closed_alpha_\"+chan, pvalue))"
   ]
  },
  {
   "cell_type": "markdown",
   "id": "d92d911e-597c-42b9-a4e4-e3c5477f13f8",
   "metadata": {},
   "source": [
    "# The End"
   ]
  },
  {
   "cell_type": "markdown",
   "id": "b3f5ec2c-6fe5-4568-8dfe-ae34ee441e3c",
   "metadata": {},
   "source": [
    "# Extra: Connectivity visualization between channels for Alpha band"
   ]
  },
  {
   "cell_type": "markdown",
   "id": "c3a450c6-d281-462e-a056-43c224a703e8",
   "metadata": {},
   "source": [
    "! pip install utils"
   ]
  },
  {
   "cell_type": "markdown",
   "id": "85636e82-b51a-46fa-b287-d4bbdd609c0e",
   "metadata": {},
   "source": [
    "! pip install mne_connectivity"
   ]
  },
  {
   "cell_type": "code",
   "execution_count": 108,
   "id": "76bfb29c-be4a-4cb3-b789-c6c55ab9709f",
   "metadata": {},
   "outputs": [],
   "source": [
    "import utils\n",
    "import mne_connectivity\n",
    "from mne_connectivity import spectral_connectivity_epochs\n",
    "from mne_connectivity.viz import plot_connectivity_circle, plot_sensors_connectivity\n",
    "from mne.viz import circular_layout\n",
    "from scipy import stats"
   ]
  },
  {
   "cell_type": "code",
   "execution_count": 109,
   "id": "d65c31d8-41e2-42ab-a3be-89520c0d8a53",
   "metadata": {},
   "outputs": [],
   "source": [
    "# Eyes open:"
   ]
  },
  {
   "cell_type": "code",
   "execution_count": 110,
   "id": "0cadc13f-6a1e-4830-9a4d-33522209c29c",
   "metadata": {},
   "outputs": [
    {
     "name": "stdout",
     "output_type": "stream",
     "text": [
      "Reading /home/jovyan/Year 3/CogNeuro/EEG practical/4. Epoch/Open/Open_Eyes_1-open_eyes_epo.fif ...\n",
      "    Found the data of interest:\n",
      "        t =   -1000.00 ...    5000.00 ms\n",
      "        0 CTF compensation matrices available\n",
      "Not setting metadata\n",
      "10 matching events found\n",
      "No baseline correction applied\n",
      "0 projection items activated\n"
     ]
    }
   ],
   "source": [
    "epoch_EO_one = mne.read_epochs(\"4. Epoch/Open/Open_Eyes_1-open_eyes_epo.fif\", preload= True)"
   ]
  },
  {
   "cell_type": "code",
   "execution_count": 111,
   "id": "ade1d351-1f81-4aea-9cfc-2fc97e905bfb",
   "metadata": {},
   "outputs": [],
   "source": [
    "e_o = []"
   ]
  },
  {
   "cell_type": "code",
   "execution_count": 112,
   "id": "88d5f3c8-0205-46ab-b2f6-39037ea8bf57",
   "metadata": {},
   "outputs": [
    {
     "name": "stdout",
     "output_type": "stream",
     "text": [
      "Adding metadata with 3 columns\n",
      "Connectivity computation...\n",
      "only using indices for lower-triangular matrix\n",
      "    computing connectivity for 28 connections\n",
      "    using t=-1.000s..5.000s for estimation (1501 points)\n",
      "    frequencies: 8.2Hz..12.0Hz (24 points)\n",
      "    connectivity scores will be averaged for each band\n",
      "    Using multitaper spectrum estimation with 7 DPSS windows\n",
      "    the following metrics will be computed: DPLI\n",
      "    computing connectivity for epoch 1\n",
      "    computing connectivity for epoch 2\n",
      "    computing connectivity for epoch 3\n",
      "    computing connectivity for epoch 4\n",
      "    computing connectivity for epoch 5\n",
      "    computing connectivity for epoch 6\n",
      "    computing connectivity for epoch 7\n",
      "    computing connectivity for epoch 8\n",
      "    computing connectivity for epoch 9\n",
      "    computing connectivity for epoch 10\n",
      "    assembling connectivity matrix\n",
      "[Connectivity computation done]\n"
     ]
    }
   ],
   "source": [
    "con_EO = spectral_connectivity_epochs(epoch_EO_one, names=channels, method='dpli', indices=None, sfreq=250, mode='multitaper', \n",
    "                               fmin=8, fmax=12, fskip=0, faverage=True, tmin=None, tmax=None, mt_bandwidth=None, mt_adaptive=False, \n",
    "                               mt_low_bias=True, cwt_freqs=None, cwt_n_cycles=7, block_size=1000, n_jobs=1, verbose=None)\n",
    "e_o.append(con_EO)\n",
    "    "
   ]
  },
  {
   "cell_type": "code",
   "execution_count": 113,
   "id": "0c0b3f26-f290-486a-a48e-be11d3103c3e",
   "metadata": {},
   "outputs": [
    {
     "name": "stdout",
     "output_type": "stream",
     "text": [
      "Reading /home/jovyan/Year 3/CogNeuro/EEG practical/4. Epoch/Open/Open_Eyes_2-open_eyes_epo.fif ...\n",
      "    Found the data of interest:\n",
      "        t =   -1000.00 ...    5000.00 ms\n",
      "        0 CTF compensation matrices available\n",
      "Not setting metadata\n",
      "11 matching events found\n",
      "No baseline correction applied\n",
      "0 projection items activated\n"
     ]
    }
   ],
   "source": [
    "epoch_EO_two = mne.read_epochs(\"4. Epoch/Open/Open_Eyes_2-open_eyes_epo.fif\", preload= True)"
   ]
  },
  {
   "cell_type": "code",
   "execution_count": 114,
   "id": "91cd05d2-38f7-4321-a12a-1f241ffa7287",
   "metadata": {},
   "outputs": [
    {
     "name": "stdout",
     "output_type": "stream",
     "text": [
      "Adding metadata with 3 columns\n",
      "Connectivity computation...\n",
      "only using indices for lower-triangular matrix\n",
      "    computing connectivity for 28 connections\n",
      "    using t=-1.000s..5.000s for estimation (1501 points)\n",
      "    frequencies: 8.2Hz..12.0Hz (24 points)\n",
      "    connectivity scores will be averaged for each band\n",
      "    Using multitaper spectrum estimation with 7 DPSS windows\n",
      "    the following metrics will be computed: DPLI\n",
      "    computing connectivity for epoch 1\n",
      "    computing connectivity for epoch 2\n",
      "    computing connectivity for epoch 3\n",
      "    computing connectivity for epoch 4\n",
      "    computing connectivity for epoch 5\n",
      "    computing connectivity for epoch 6\n",
      "    computing connectivity for epoch 7\n",
      "    computing connectivity for epoch 8\n",
      "    computing connectivity for epoch 9\n",
      "    computing connectivity for epoch 10\n",
      "    computing connectivity for epoch 11\n",
      "    assembling connectivity matrix\n",
      "[Connectivity computation done]\n"
     ]
    }
   ],
   "source": [
    "con_EO = spectral_connectivity_epochs(epoch_EO_two, names=channels, method='dpli', indices=None, sfreq=250, mode='multitaper', \n",
    "                               fmin=8, fmax=12, fskip=0, faverage=True, tmin=None, tmax=None, mt_bandwidth=None, mt_adaptive=False, \n",
    "                               mt_low_bias=True, cwt_freqs=None, cwt_n_cycles=7, block_size=1000, n_jobs=1, verbose=None)\n",
    "e_o.append(con_EO)"
   ]
  },
  {
   "cell_type": "code",
   "execution_count": 115,
   "id": "727bac43-e965-4a7a-91ea-faaecfde0472",
   "metadata": {},
   "outputs": [],
   "source": [
    "e_o = e_o[0].append(e_o[1])"
   ]
  },
  {
   "cell_type": "code",
   "execution_count": 116,
   "id": "33501f46-50d1-4913-be63-ee37fb7668eb",
   "metadata": {},
   "outputs": [
    {
     "name": "stdout",
     "output_type": "stream",
     "text": [
      "<SpectralConnectivity | freq : [10.076616, 10.076616], , nave : 10, nodes, n_estimated : 8, 64, ~50 kB>\n"
     ]
    }
   ],
   "source": [
    "print(e_o)"
   ]
  },
  {
   "cell_type": "code",
   "execution_count": 117,
   "id": "071489d5-658d-4ba4-a11a-fb98e4e93323",
   "metadata": {},
   "outputs": [],
   "source": [
    "conmat_EO = con_EO.get_data(output='dense')[:, :, 0]"
   ]
  },
  {
   "cell_type": "code",
   "execution_count": 118,
   "id": "7fc14ad8-adb8-4696-b0b6-710458a83465",
   "metadata": {},
   "outputs": [],
   "source": [
    "# Eyes closed:"
   ]
  },
  {
   "cell_type": "code",
   "execution_count": 119,
   "id": "5cf1f60f-b4bd-4dcf-956b-69d55b2c7cd9",
   "metadata": {},
   "outputs": [
    {
     "name": "stdout",
     "output_type": "stream",
     "text": [
      "Reading /home/jovyan/Year 3/CogNeuro/EEG practical/4. Epoch/Closed/Closed_Eyes_1-closed_eyes_epo.fif ...\n",
      "    Found the data of interest:\n",
      "        t =   -1000.00 ...    5000.00 ms\n",
      "        0 CTF compensation matrices available\n",
      "Not setting metadata\n",
      "11 matching events found\n",
      "No baseline correction applied\n",
      "0 projection items activated\n"
     ]
    }
   ],
   "source": [
    "epoch_EC_one = mne.read_epochs(\"4. Epoch/Closed/Closed_Eyes_1-closed_eyes_epo.fif\", preload= True)"
   ]
  },
  {
   "cell_type": "code",
   "execution_count": 120,
   "id": "b9672cf1-8232-4e3c-b626-d91bd48d130c",
   "metadata": {},
   "outputs": [],
   "source": [
    "e_c = []"
   ]
  },
  {
   "cell_type": "code",
   "execution_count": 121,
   "id": "96243ab3-1590-40a1-befe-a4c1109366ba",
   "metadata": {},
   "outputs": [
    {
     "name": "stdout",
     "output_type": "stream",
     "text": [
      "Adding metadata with 3 columns\n",
      "Connectivity computation...\n",
      "only using indices for lower-triangular matrix\n",
      "    computing connectivity for 28 connections\n",
      "    using t=-1.000s..5.000s for estimation (1501 points)\n",
      "    frequencies: 8.2Hz..12.0Hz (24 points)\n",
      "    connectivity scores will be averaged for each band\n",
      "    Using multitaper spectrum estimation with 7 DPSS windows\n",
      "    the following metrics will be computed: DPLI\n",
      "    computing connectivity for epoch 1\n",
      "    computing connectivity for epoch 2\n",
      "    computing connectivity for epoch 3\n",
      "    computing connectivity for epoch 4\n",
      "    computing connectivity for epoch 5\n",
      "    computing connectivity for epoch 6\n",
      "    computing connectivity for epoch 7\n",
      "    computing connectivity for epoch 8\n",
      "    computing connectivity for epoch 9\n",
      "    computing connectivity for epoch 10\n",
      "    computing connectivity for epoch 11\n",
      "    assembling connectivity matrix\n",
      "[Connectivity computation done]\n"
     ]
    }
   ],
   "source": [
    "con_EC = spectral_connectivity_epochs(epoch_EC_one, names=channels, method='dpli', indices=None, sfreq=250, mode='multitaper', \n",
    "                               fmin=8, fmax=12, fskip=0, faverage=True, tmin=None, tmax=None, mt_bandwidth=None, mt_adaptive=False, \n",
    "                               mt_low_bias=True, cwt_freqs=None, cwt_n_cycles=7, block_size=1000, n_jobs=1, verbose=None)\n",
    "e_c.append(con_EC)\n",
    "    "
   ]
  },
  {
   "cell_type": "code",
   "execution_count": 122,
   "id": "d0db8e40-06d8-4e3b-a31b-4f9635b62abd",
   "metadata": {},
   "outputs": [
    {
     "name": "stdout",
     "output_type": "stream",
     "text": [
      "Reading /home/jovyan/Year 3/CogNeuro/EEG practical/4. Epoch/Closed/Closed_Eyes_2-closed_eyes_epo.fif ...\n",
      "    Found the data of interest:\n",
      "        t =   -1000.00 ...    5000.00 ms\n",
      "        0 CTF compensation matrices available\n",
      "Not setting metadata\n",
      "10 matching events found\n",
      "No baseline correction applied\n",
      "0 projection items activated\n"
     ]
    }
   ],
   "source": [
    "epoch_EC_two = mne.read_epochs(\"4. Epoch/Closed/Closed_Eyes_2-closed_eyes_epo.fif\", preload= True)"
   ]
  },
  {
   "cell_type": "code",
   "execution_count": 123,
   "id": "b8ade9f1-a94d-4da4-9974-8cc77b5ba579",
   "metadata": {},
   "outputs": [
    {
     "name": "stdout",
     "output_type": "stream",
     "text": [
      "Adding metadata with 3 columns\n",
      "Connectivity computation...\n",
      "only using indices for lower-triangular matrix\n",
      "    computing connectivity for 28 connections\n",
      "    using t=-1.000s..5.000s for estimation (1501 points)\n",
      "    frequencies: 8.2Hz..12.0Hz (24 points)\n",
      "    connectivity scores will be averaged for each band\n",
      "    Using multitaper spectrum estimation with 7 DPSS windows\n",
      "    the following metrics will be computed: DPLI\n",
      "    computing connectivity for epoch 1\n",
      "    computing connectivity for epoch 2\n",
      "    computing connectivity for epoch 3\n",
      "    computing connectivity for epoch 4\n",
      "    computing connectivity for epoch 5\n",
      "    computing connectivity for epoch 6\n",
      "    computing connectivity for epoch 7\n",
      "    computing connectivity for epoch 8\n",
      "    computing connectivity for epoch 9\n",
      "    computing connectivity for epoch 10\n",
      "    assembling connectivity matrix\n",
      "[Connectivity computation done]\n"
     ]
    }
   ],
   "source": [
    "con_EC = spectral_connectivity_epochs(epoch_EC_two, names=channels, method='dpli', indices=None, sfreq=250, mode='multitaper', \n",
    "                               fmin=8, fmax=12, fskip=0, faverage=True, tmin=None, tmax=None, mt_bandwidth=None, mt_adaptive=False, \n",
    "                               mt_low_bias=True, cwt_freqs=None, cwt_n_cycles=7, block_size=1000, n_jobs=1, verbose=None)\n",
    "e_c.append(con_EC)\n",
    "    "
   ]
  },
  {
   "cell_type": "code",
   "execution_count": 124,
   "id": "4b81786f-8b17-4ef5-8c99-48d72e405caa",
   "metadata": {},
   "outputs": [],
   "source": [
    "e_c = e_c[0].append(e_c[1])"
   ]
  },
  {
   "cell_type": "code",
   "execution_count": 125,
   "id": "df760e6f-bcea-48b4-9dbd-83f431f85616",
   "metadata": {},
   "outputs": [
    {
     "name": "stdout",
     "output_type": "stream",
     "text": [
      "<SpectralConnectivity | freq : [10.076616, 10.076616], , nave : 11, nodes, n_estimated : 8, 64, ~50 kB>\n"
     ]
    }
   ],
   "source": [
    "print(e_c)"
   ]
  },
  {
   "cell_type": "code",
   "execution_count": 126,
   "id": "f08bbe16-cd03-4b74-b3fc-aaa22681a527",
   "metadata": {},
   "outputs": [],
   "source": [
    "conmat_EC = con_EC.get_data(output='dense')[:, :, 0]"
   ]
  },
  {
   "cell_type": "code",
   "execution_count": 127,
   "id": "1e8e955b-bcf9-4925-a3ee-30f742529b25",
   "metadata": {},
   "outputs": [],
   "source": [
    "# Connectivity plot"
   ]
  },
  {
   "cell_type": "code",
   "execution_count": 128,
   "id": "7c6ba705-f361-48a6-bb7a-46b8ca52cf5b",
   "metadata": {},
   "outputs": [],
   "source": [
    "node_angles = circular_layout(channels, channels, start_pos=90,\n",
    "                              group_boundaries=[0, len(channels) // 2])"
   ]
  },
  {
   "cell_type": "code",
   "execution_count": 129,
   "id": "88b092d9-3da8-4fa3-96a9-d9de6321db04",
   "metadata": {},
   "outputs": [
    {
     "data": {
      "image/png": "[encoded data removed]",
      "text/plain": [
       "<Figure size 576x576 with 2 Axes>"
      ]
     },
     "metadata": {},
     "output_type": "display_data"
    }
   ],
   "source": [
    "fig, ax = plt.subplots(figsize=(8, 8), facecolor='black',\n",
    "                       subplot_kw=dict(polar=True))\n",
    "plot_connectivity_circle(conmat_EO, node_names = channels,\n",
    "                         node_angles=node_angles, node_colors=None,\n",
    "                         title='Eyes Open All-to-All Connectivity', ax=ax, vmin = 0.3, vmax = 0.8)\n",
    "fig.tight_layout()"
   ]
  },
  {
   "cell_type": "code",
   "execution_count": 131,
   "id": "bd09d64c-f372-49a9-bb2e-70cb191273c7",
   "metadata": {},
   "outputs": [
    {
     "data": {
      "image/png": "[encoded data removed]",
      "text/plain": [
       "<Figure size 576x576 with 2 Axes>"
      ]
     },
     "metadata": {},
     "output_type": "display_data"
    }
   ],
   "source": [
    "fig, ax = plt.subplots(figsize=(8, 8), facecolor='black',\n",
    "                       subplot_kw=dict(polar=True))\n",
    "plot_connectivity_circle(conmat_EC, node_names = channels,\n",
    "                         node_angles=node_angles, node_colors=None,\n",
    "                         title='Eyes Closed All-to-All Connectivity', ax=ax, vmin = 0.3, vmax = 0.8)\n",
    "fig.tight_layout()"
   ]
  },
  {
   "cell_type": "markdown",
   "id": "17987428-14b7-40ae-911d-5a67e88176a6",
   "metadata": {},
   "source": [
    "# Phase lag index"
   ]
  },
  {
   "cell_type": "code",
   "execution_count": 132,
   "id": "4d9dfc76-c86a-4a86-9dd5-824fa6c87722",
   "metadata": {},
   "outputs": [
    {
     "data": {
      "image/png": "[encoded data removed]",
      "text/plain": [
       "<Figure size 1008x360 with 3 Axes>"
      ]
     },
     "metadata": {
      "needs_background": "light"
     },
     "output_type": "display_data"
    }
   ],
   "source": [
    "fig, axs = plt.subplots(1, 2, figsize=(14, 5), sharey=True)\n",
    "axs[0].imshow(con_EO.get_data('dense'), vmin=0.5, vmax=1)\n",
    "axs[0].set_title(\"dPLI-Eyes open\")\n",
    "axs[0].set_ylabel(\"Sensor 1\")\n",
    "axs[0].set_xlabel(\"Sensor 2\")\n",
    "\n",
    "im = axs[1].imshow(con_EC.get_data('dense'), vmin=0.5, vmax=1)\n",
    "axs[1].set_title(\"dPLI-Eyes closed\")\n",
    "axs[1].set_xlabel(\"Sensor 2\")\n",
    "\n",
    "\n",
    "\n",
    "fig.colorbar(im, ax=axs.ravel())\n",
    "plt.show()"
   ]
  },
  {
   "cell_type": "code",
   "execution_count": null,
   "id": "bd52e16f-14a0-48fd-8a55-f3e378be6a6c",
   "metadata": {},
   "outputs": [],
   "source": []
  }
 ],
 "metadata": {
  "kernelspec": {
   "display_name": "Python 3 (ipykernel)",
   "language": "python",
   "name": "python3"
  },
  "language_info": {
   "codemirror_mode": {
    "name": "ipython",
    "version": 3
   },
   "file_extension": ".py",
   "mimetype": "text/x-python",
   "name": "python",
   "nbconvert_exporter": "python",
   "pygments_lexer": "ipython3",
   "version": "3.9.7"
  }
 },
 "nbformat": 4,
 "nbformat_minor": 5
}
